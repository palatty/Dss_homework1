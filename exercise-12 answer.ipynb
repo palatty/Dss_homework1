{
  "cells": [
    {
      "cell_type": "markdown",
      "metadata": {
        "id": "view-in-github",
        "colab_type": "text"
      },
      "source": [
        "<a href=\"https://colab.research.google.com/github/palatty/Dss_homework1/blob/main/exercise-12%20answer.ipynb\" target=\"_parent\"><img src=\"https://colab.research.google.com/assets/colab-badge.svg\" alt=\"Open In Colab\"/></a>"
      ]
    },
    {
      "cell_type": "markdown",
      "metadata": {
        "id": "UH_Gs0MXmeG-"
      },
      "source": [
        "<div class=\"alert-block alert-info alert\"> Hello! If this is your first assignment please read the following instructions:\n",
        "\n",
        "Read the questions carefully and code what is asked in the respective code block whenever you see a ``` #TODO: YOUR CODE HERE. ```\n",
        "It is important to do the Coding tasks IN ORDER, as the majority of coding blocks are dependent on the\n",
        "previous coding blocks in the notebook.\n",
        "Please also note that there is a **raise NotImplementedError()** for each task or function you have to\n",
        "implement, so don't forget to remove it before testing your code, otherwise you will always get a \"not\n",
        "implemented\" error.\n",
        "\n",
        "You need to install required python packages before executing your codes. Simply run the block below to install it in the Colab environment of your Google account. Rerun the block when you are not sure they are properly installed.\n",
        "\n",
        "You need to manually upload the data used in this exercise to Colab. Just create a folder 'data' and paste the respective files into this folder. Otherwise, you will get a 'File not found' error. You can find the data in StudOn.\n",
        "\n",
        "Aside from coding blocks, there are also testing blocks to check whether your implementations\n",
        "are correct, you can run them but do not change the code inside of them.\n",
        "The tests are determined via the ASSERT STATEMENTS that you see on the testing blocks, which can help you\n",
        "out during the coding of the exercises. If you pass all the visible asserts, you will probably get a good\n",
        "grade on the exercise, just remember that there are also hidden tests, so hardcoding the assert statements\n",
        "won't help you.\n",
        "\n",
        "REMEMBER: This Colab notebook DOES NOT HAVE AN AUTOSAVE FUNCTION, so whenever you want to close it, please\n",
        "remember to save it by clicking on the \"file\" tab in the upper left corner of the page, followed by\n",
        "clicking on the \"Save a copy to GitHub\" button and selecting your corresponding GitHub repository:\n",
        "\"madlab-biosig/exercise-x-YourGitHubUsername\"\n",
        "\n",
        "Before you save the final version of your assignment, please make sure everything runs as expected.\n",
        "First, **restart the kernel** (in the menubar, select Kernel$\\rightarrow$Restart) and then **run all\n",
        "cells** (in the menubar, select Cell$\\rightarrow$Run All).\n",
        "</div>"
      ]
    },
    {
      "cell_type": "code",
      "execution_count": 10,
      "metadata": {
        "id": "9pDW4uM7meHB",
        "colab": {
          "base_uri": "https://localhost:8080/"
        },
        "outputId": "3a15f410-f518-43df-bd9b-0dbb1809cda5"
      },
      "outputs": [
        {
          "output_type": "stream",
          "name": "stdout",
          "text": [
            "Requirement already satisfied: pandas in /usr/local/lib/python3.11/dist-packages (2.2.2)\n",
            "Requirement already satisfied: scipy==1.10 in /usr/local/lib/python3.11/dist-packages (1.10.0)\n",
            "Requirement already satisfied: h5py==3.9.0 in /usr/local/lib/python3.11/dist-packages (3.9.0)\n",
            "Requirement already satisfied: seaborn==0.13.2 in /usr/local/lib/python3.11/dist-packages (0.13.2)\n",
            "Requirement already satisfied: scikit-learn==1.3.0 in /usr/local/lib/python3.11/dist-packages (1.3.0)\n",
            "Requirement already satisfied: ipywidgets in /usr/local/lib/python3.11/dist-packages (7.7.1)\n",
            "Requirement already satisfied: ipympl in /usr/local/lib/python3.11/dist-packages (0.9.6)\n",
            "Requirement already satisfied: numpy<1.27.0,>=1.19.5 in /usr/local/lib/python3.11/dist-packages (from scipy==1.10) (1.26.4)\n",
            "Requirement already satisfied: matplotlib!=3.6.1,>=3.4 in /usr/local/lib/python3.11/dist-packages (from seaborn==0.13.2) (3.10.0)\n",
            "Requirement already satisfied: joblib>=1.1.1 in /usr/local/lib/python3.11/dist-packages (from scikit-learn==1.3.0) (1.4.2)\n",
            "Requirement already satisfied: threadpoolctl>=2.0.0 in /usr/local/lib/python3.11/dist-packages (from scikit-learn==1.3.0) (3.5.0)\n",
            "Requirement already satisfied: python-dateutil>=2.8.2 in /usr/local/lib/python3.11/dist-packages (from pandas) (2.8.2)\n",
            "Requirement already satisfied: pytz>=2020.1 in /usr/local/lib/python3.11/dist-packages (from pandas) (2024.2)\n",
            "Requirement already satisfied: tzdata>=2022.7 in /usr/local/lib/python3.11/dist-packages (from pandas) (2025.1)\n",
            "Requirement already satisfied: ipykernel>=4.5.1 in /usr/local/lib/python3.11/dist-packages (from ipywidgets) (5.5.6)\n",
            "Requirement already satisfied: ipython-genutils~=0.2.0 in /usr/local/lib/python3.11/dist-packages (from ipywidgets) (0.2.0)\n",
            "Requirement already satisfied: traitlets>=4.3.1 in /usr/local/lib/python3.11/dist-packages (from ipywidgets) (5.7.1)\n",
            "Requirement already satisfied: widgetsnbextension~=3.6.0 in /usr/local/lib/python3.11/dist-packages (from ipywidgets) (3.6.10)\n",
            "Requirement already satisfied: ipython>=4.0.0 in /usr/local/lib/python3.11/dist-packages (from ipywidgets) (7.34.0)\n",
            "Requirement already satisfied: jupyterlab-widgets>=1.0.0 in /usr/local/lib/python3.11/dist-packages (from ipywidgets) (3.0.13)\n",
            "Requirement already satisfied: pillow in /usr/local/lib/python3.11/dist-packages (from ipympl) (11.1.0)\n",
            "Requirement already satisfied: jupyter-client in /usr/local/lib/python3.11/dist-packages (from ipykernel>=4.5.1->ipywidgets) (6.1.12)\n",
            "Requirement already satisfied: tornado>=4.2 in /usr/local/lib/python3.11/dist-packages (from ipykernel>=4.5.1->ipywidgets) (6.3.3)\n",
            "Requirement already satisfied: setuptools>=18.5 in /usr/local/lib/python3.11/dist-packages (from ipython>=4.0.0->ipywidgets) (75.1.0)\n",
            "Requirement already satisfied: jedi>=0.16 in /usr/local/lib/python3.11/dist-packages (from ipython>=4.0.0->ipywidgets) (0.19.2)\n",
            "Requirement already satisfied: decorator in /usr/local/lib/python3.11/dist-packages (from ipython>=4.0.0->ipywidgets) (4.4.2)\n",
            "Requirement already satisfied: pickleshare in /usr/local/lib/python3.11/dist-packages (from ipython>=4.0.0->ipywidgets) (0.7.5)\n",
            "Requirement already satisfied: prompt-toolkit!=3.0.0,!=3.0.1,<3.1.0,>=2.0.0 in /usr/local/lib/python3.11/dist-packages (from ipython>=4.0.0->ipywidgets) (3.0.50)\n",
            "Requirement already satisfied: pygments in /usr/local/lib/python3.11/dist-packages (from ipython>=4.0.0->ipywidgets) (2.18.0)\n",
            "Requirement already satisfied: backcall in /usr/local/lib/python3.11/dist-packages (from ipython>=4.0.0->ipywidgets) (0.2.0)\n",
            "Requirement already satisfied: matplotlib-inline in /usr/local/lib/python3.11/dist-packages (from ipython>=4.0.0->ipywidgets) (0.1.7)\n",
            "Requirement already satisfied: pexpect>4.3 in /usr/local/lib/python3.11/dist-packages (from ipython>=4.0.0->ipywidgets) (4.9.0)\n",
            "Requirement already satisfied: contourpy>=1.0.1 in /usr/local/lib/python3.11/dist-packages (from matplotlib!=3.6.1,>=3.4->seaborn==0.13.2) (1.3.1)\n",
            "Requirement already satisfied: cycler>=0.10 in /usr/local/lib/python3.11/dist-packages (from matplotlib!=3.6.1,>=3.4->seaborn==0.13.2) (0.12.1)\n",
            "Requirement already satisfied: fonttools>=4.22.0 in /usr/local/lib/python3.11/dist-packages (from matplotlib!=3.6.1,>=3.4->seaborn==0.13.2) (4.55.6)\n",
            "Requirement already satisfied: kiwisolver>=1.3.1 in /usr/local/lib/python3.11/dist-packages (from matplotlib!=3.6.1,>=3.4->seaborn==0.13.2) (1.4.8)\n",
            "Requirement already satisfied: packaging>=20.0 in /usr/local/lib/python3.11/dist-packages (from matplotlib!=3.6.1,>=3.4->seaborn==0.13.2) (24.2)\n",
            "Requirement already satisfied: pyparsing>=2.3.1 in /usr/local/lib/python3.11/dist-packages (from matplotlib!=3.6.1,>=3.4->seaborn==0.13.2) (3.2.1)\n",
            "Requirement already satisfied: six>=1.5 in /usr/local/lib/python3.11/dist-packages (from python-dateutil>=2.8.2->pandas) (1.17.0)\n",
            "Requirement already satisfied: notebook>=4.4.1 in /usr/local/lib/python3.11/dist-packages (from widgetsnbextension~=3.6.0->ipywidgets) (6.5.5)\n",
            "Requirement already satisfied: parso<0.9.0,>=0.8.4 in /usr/local/lib/python3.11/dist-packages (from jedi>=0.16->ipython>=4.0.0->ipywidgets) (0.8.4)\n",
            "Requirement already satisfied: jinja2 in /usr/local/lib/python3.11/dist-packages (from notebook>=4.4.1->widgetsnbextension~=3.6.0->ipywidgets) (3.1.5)\n",
            "Requirement already satisfied: pyzmq<25,>=17 in /usr/local/lib/python3.11/dist-packages (from notebook>=4.4.1->widgetsnbextension~=3.6.0->ipywidgets) (24.0.1)\n",
            "Requirement already satisfied: argon2-cffi in /usr/local/lib/python3.11/dist-packages (from notebook>=4.4.1->widgetsnbextension~=3.6.0->ipywidgets) (23.1.0)\n",
            "Requirement already satisfied: jupyter-core>=4.6.1 in /usr/local/lib/python3.11/dist-packages (from notebook>=4.4.1->widgetsnbextension~=3.6.0->ipywidgets) (5.7.2)\n",
            "Requirement already satisfied: nbformat in /usr/local/lib/python3.11/dist-packages (from notebook>=4.4.1->widgetsnbextension~=3.6.0->ipywidgets) (5.10.4)\n",
            "Requirement already satisfied: nbconvert>=5 in /usr/local/lib/python3.11/dist-packages (from notebook>=4.4.1->widgetsnbextension~=3.6.0->ipywidgets) (7.16.5)\n",
            "Requirement already satisfied: nest-asyncio>=1.5 in /usr/local/lib/python3.11/dist-packages (from notebook>=4.4.1->widgetsnbextension~=3.6.0->ipywidgets) (1.6.0)\n",
            "Requirement already satisfied: Send2Trash>=1.8.0 in /usr/local/lib/python3.11/dist-packages (from notebook>=4.4.1->widgetsnbextension~=3.6.0->ipywidgets) (1.8.3)\n",
            "Requirement already satisfied: terminado>=0.8.3 in /usr/local/lib/python3.11/dist-packages (from notebook>=4.4.1->widgetsnbextension~=3.6.0->ipywidgets) (0.18.1)\n",
            "Requirement already satisfied: prometheus-client in /usr/local/lib/python3.11/dist-packages (from notebook>=4.4.1->widgetsnbextension~=3.6.0->ipywidgets) (0.21.1)\n",
            "Requirement already satisfied: nbclassic>=0.4.7 in /usr/local/lib/python3.11/dist-packages (from notebook>=4.4.1->widgetsnbextension~=3.6.0->ipywidgets) (1.2.0)\n",
            "Requirement already satisfied: ptyprocess>=0.5 in /usr/local/lib/python3.11/dist-packages (from pexpect>4.3->ipython>=4.0.0->ipywidgets) (0.7.0)\n",
            "Requirement already satisfied: wcwidth in /usr/local/lib/python3.11/dist-packages (from prompt-toolkit!=3.0.0,!=3.0.1,<3.1.0,>=2.0.0->ipython>=4.0.0->ipywidgets) (0.2.13)\n",
            "Requirement already satisfied: platformdirs>=2.5 in /usr/local/lib/python3.11/dist-packages (from jupyter-core>=4.6.1->notebook>=4.4.1->widgetsnbextension~=3.6.0->ipywidgets) (4.3.6)\n",
            "Requirement already satisfied: notebook-shim>=0.2.3 in /usr/local/lib/python3.11/dist-packages (from nbclassic>=0.4.7->notebook>=4.4.1->widgetsnbextension~=3.6.0->ipywidgets) (0.2.4)\n",
            "Requirement already satisfied: beautifulsoup4 in /usr/local/lib/python3.11/dist-packages (from nbconvert>=5->notebook>=4.4.1->widgetsnbextension~=3.6.0->ipywidgets) (4.12.3)\n",
            "Requirement already satisfied: bleach!=5.0.0 in /usr/local/lib/python3.11/dist-packages (from bleach[css]!=5.0.0->nbconvert>=5->notebook>=4.4.1->widgetsnbextension~=3.6.0->ipywidgets) (6.2.0)\n",
            "Requirement already satisfied: defusedxml in /usr/local/lib/python3.11/dist-packages (from nbconvert>=5->notebook>=4.4.1->widgetsnbextension~=3.6.0->ipywidgets) (0.7.1)\n",
            "Requirement already satisfied: jupyterlab-pygments in /usr/local/lib/python3.11/dist-packages (from nbconvert>=5->notebook>=4.4.1->widgetsnbextension~=3.6.0->ipywidgets) (0.3.0)\n",
            "Requirement already satisfied: markupsafe>=2.0 in /usr/local/lib/python3.11/dist-packages (from nbconvert>=5->notebook>=4.4.1->widgetsnbextension~=3.6.0->ipywidgets) (3.0.2)\n",
            "Requirement already satisfied: mistune<4,>=2.0.3 in /usr/local/lib/python3.11/dist-packages (from nbconvert>=5->notebook>=4.4.1->widgetsnbextension~=3.6.0->ipywidgets) (3.1.0)\n",
            "Requirement already satisfied: nbclient>=0.5.0 in /usr/local/lib/python3.11/dist-packages (from nbconvert>=5->notebook>=4.4.1->widgetsnbextension~=3.6.0->ipywidgets) (0.10.2)\n",
            "Requirement already satisfied: pandocfilters>=1.4.1 in /usr/local/lib/python3.11/dist-packages (from nbconvert>=5->notebook>=4.4.1->widgetsnbextension~=3.6.0->ipywidgets) (1.5.1)\n",
            "Requirement already satisfied: fastjsonschema>=2.15 in /usr/local/lib/python3.11/dist-packages (from nbformat->notebook>=4.4.1->widgetsnbextension~=3.6.0->ipywidgets) (2.21.1)\n",
            "Requirement already satisfied: jsonschema>=2.6 in /usr/local/lib/python3.11/dist-packages (from nbformat->notebook>=4.4.1->widgetsnbextension~=3.6.0->ipywidgets) (4.23.0)\n",
            "Requirement already satisfied: argon2-cffi-bindings in /usr/local/lib/python3.11/dist-packages (from argon2-cffi->notebook>=4.4.1->widgetsnbextension~=3.6.0->ipywidgets) (21.2.0)\n",
            "Requirement already satisfied: webencodings in /usr/local/lib/python3.11/dist-packages (from bleach!=5.0.0->bleach[css]!=5.0.0->nbconvert>=5->notebook>=4.4.1->widgetsnbextension~=3.6.0->ipywidgets) (0.5.1)\n",
            "Requirement already satisfied: tinycss2<1.5,>=1.1.0 in /usr/local/lib/python3.11/dist-packages (from bleach[css]!=5.0.0->nbconvert>=5->notebook>=4.4.1->widgetsnbextension~=3.6.0->ipywidgets) (1.4.0)\n",
            "Requirement already satisfied: attrs>=22.2.0 in /usr/local/lib/python3.11/dist-packages (from jsonschema>=2.6->nbformat->notebook>=4.4.1->widgetsnbextension~=3.6.0->ipywidgets) (25.1.0)\n",
            "Requirement already satisfied: jsonschema-specifications>=2023.03.6 in /usr/local/lib/python3.11/dist-packages (from jsonschema>=2.6->nbformat->notebook>=4.4.1->widgetsnbextension~=3.6.0->ipywidgets) (2024.10.1)\n",
            "Requirement already satisfied: referencing>=0.28.4 in /usr/local/lib/python3.11/dist-packages (from jsonschema>=2.6->nbformat->notebook>=4.4.1->widgetsnbextension~=3.6.0->ipywidgets) (0.36.2)\n",
            "Requirement already satisfied: rpds-py>=0.7.1 in /usr/local/lib/python3.11/dist-packages (from jsonschema>=2.6->nbformat->notebook>=4.4.1->widgetsnbextension~=3.6.0->ipywidgets) (0.22.3)\n",
            "Requirement already satisfied: jupyter-server<3,>=1.8 in /usr/local/lib/python3.11/dist-packages (from notebook-shim>=0.2.3->nbclassic>=0.4.7->notebook>=4.4.1->widgetsnbextension~=3.6.0->ipywidgets) (1.24.0)\n",
            "Requirement already satisfied: cffi>=1.0.1 in /usr/local/lib/python3.11/dist-packages (from argon2-cffi-bindings->argon2-cffi->notebook>=4.4.1->widgetsnbextension~=3.6.0->ipywidgets) (1.17.1)\n",
            "Requirement already satisfied: soupsieve>1.2 in /usr/local/lib/python3.11/dist-packages (from beautifulsoup4->nbconvert>=5->notebook>=4.4.1->widgetsnbextension~=3.6.0->ipywidgets) (2.6)\n",
            "Requirement already satisfied: pycparser in /usr/local/lib/python3.11/dist-packages (from cffi>=1.0.1->argon2-cffi-bindings->argon2-cffi->notebook>=4.4.1->widgetsnbextension~=3.6.0->ipywidgets) (2.22)\n",
            "Requirement already satisfied: anyio<4,>=3.1.0 in /usr/local/lib/python3.11/dist-packages (from jupyter-server<3,>=1.8->notebook-shim>=0.2.3->nbclassic>=0.4.7->notebook>=4.4.1->widgetsnbextension~=3.6.0->ipywidgets) (3.7.1)\n",
            "Requirement already satisfied: websocket-client in /usr/local/lib/python3.11/dist-packages (from jupyter-server<3,>=1.8->notebook-shim>=0.2.3->nbclassic>=0.4.7->notebook>=4.4.1->widgetsnbextension~=3.6.0->ipywidgets) (1.8.0)\n",
            "Requirement already satisfied: typing-extensions>=4.4.0 in /usr/local/lib/python3.11/dist-packages (from referencing>=0.28.4->jsonschema>=2.6->nbformat->notebook>=4.4.1->widgetsnbextension~=3.6.0->ipywidgets) (4.12.2)\n",
            "Requirement already satisfied: idna>=2.8 in /usr/local/lib/python3.11/dist-packages (from anyio<4,>=3.1.0->jupyter-server<3,>=1.8->notebook-shim>=0.2.3->nbclassic>=0.4.7->notebook>=4.4.1->widgetsnbextension~=3.6.0->ipywidgets) (3.10)\n",
            "Requirement already satisfied: sniffio>=1.1 in /usr/local/lib/python3.11/dist-packages (from anyio<4,>=3.1.0->jupyter-server<3,>=1.8->notebook-shim>=0.2.3->nbclassic>=0.4.7->notebook>=4.4.1->widgetsnbextension~=3.6.0->ipywidgets) (1.3.1)\n"
          ]
        }
      ],
      "source": [
        "!pip install pandas scipy==1.10 h5py==3.9.0 seaborn==0.13.2 scikit-learn==1.3.0 ipywidgets ipympl"
      ]
    },
    {
      "cell_type": "code",
      "execution_count": 11,
      "metadata": {
        "id": "lAS3RTZomeHC"
      },
      "outputs": [],
      "source": [
        "from ipywidgets import Widget\n",
        "Widget.close_all()"
      ]
    },
    {
      "cell_type": "markdown",
      "metadata": {
        "tags": [],
        "id": "VHi53z1YmeHC"
      },
      "source": [
        "### BioSig Exercises WS 24/25\n",
        "---"
      ]
    },
    {
      "cell_type": "markdown",
      "metadata": {
        "id": "F38BCS02meHC"
      },
      "source": [
        "# Exercise 12"
      ]
    },
    {
      "cell_type": "code",
      "execution_count": 51,
      "metadata": {
        "ExecuteTime": {
          "end_time": "2023-07-31T16:35:23.510504500Z",
          "start_time": "2023-07-31T16:35:23.462466500Z"
        },
        "tags": [],
        "id": "ntsa4EJbmeHD"
      },
      "outputs": [],
      "source": [
        "# Imports and basic setup\n",
        "### UNCOMMENT THE CORRECT ONE\n",
        "# If you are using Jupyter Lab\n",
        "%matplotlib inline\n",
        "\n",
        "# If you are using Jupyter Notebook\n",
        "# %matplotlib notebook\n",
        "\n",
        "import matplotlib.pyplot as plt\n",
        "plt.rcParams.update({'figure.max_open_warning': 40})\n",
        "import pandas as pd\n",
        "import numpy as np\n",
        "import scipy\n",
        "import scipy.signal\n",
        "from pathlib import Path\n",
        "import seaborn as sns\n",
        "from sklearn.model_selection import train_test_split"
      ]
    },
    {
      "cell_type": "markdown",
      "metadata": {
        "id": "LoasBMXGmeHD"
      },
      "source": []
    },
    {
      "cell_type": "markdown",
      "metadata": {
        "id": "QXfAZ1E9meHD"
      },
      "source": [
        "# Comparing PVC and healthy peaks\n",
        "\n",
        "Last exercise we calculated a wide set of features on a sample ECG recording.\n",
        "In this exercise, we want to use these features to build a classifier that can separate healthy from PVC (premature ventricular contraction) heart beats."
      ]
    },
    {
      "cell_type": "markdown",
      "metadata": {
        "id": "Q9NpmKTpmeHD"
      },
      "source": [
        "## Ex 12.1: Data Cleaning\n",
        "We are going to use the [MIT ECG database](https://physionet.org/content/mitdb/1.0.0/), which was mentioned multiple times in the lecture, for this analysis.\n",
        "You can find a formatted and structured version of the DB in the `data` folder.\n",
        "The files have the following structure:\n",
        "\n",
        "- {patient_id}.csv -> The ECG recording\n",
        "- {patient_id}_all.csv -> The position of the R-peaks of all heart beats (PVC or normal). All heart beats that show a different condition than PVC are already excluded\n",
        "- {patient_id}_pvc.csv -> The position of all PVC heart beats in the recording.\n",
        "\n",
        "Not all patients in the database have PVC heart beats in the recordings.\n",
        "\n",
        "a) Find all patients that have PVC heart beats **and** normal beats\n",
        "\n",
        "b) Create a label vector for each patient. This should consist of a 2 column dataframe. The first column should be the position of the R-peak and the second should either be `\"PVC\"` or `\"N\"`, indicating a healthy or pathological beat.\n",
        "\n",
        "c) Count how many PVC vs. normal heart beats exist for these filtered patients\n",
        "\n",
        "d) Based on your findings, describe potential issues a classification using this data could have."
      ]
    },
    {
      "cell_type": "code",
      "execution_count": 20,
      "metadata": {
        "ExecuteTime": {
          "end_time": "2023-07-31T16:41:05.229665Z",
          "start_time": "2023-07-31T16:41:05.107990900Z"
        },
        "deletable": false,
        "nbgrader": {
          "cell_type": "code",
          "checksum": "85a73b0c3b58e0f51cf9389f5c3d063d",
          "grade": false,
          "grade_id": "pvc-ids",
          "locked": false,
          "schema_version": 3,
          "solution": true,
          "task": false
        },
        "tags": [],
        "id": "5CnAPp-kmeHD"
      },
      "outputs": [],
      "source": [
        "# A) Work on the pvc_ids function to obtain all the patient ids that contain PVC beats\n",
        "\n",
        "\n",
        "\n",
        "def pvc_ids():\n",
        "    \"\"\"Function that obtains the ids of all patients in the data folder\n",
        "    that have both PVC and normal heartbeats in their data\n",
        "\n",
        "    Returns:\n",
        "        patients_with_pvc (np.array, dtype=int32): A numpy array with the ids (integers) of all patients\n",
        "        that have both PVC and normal heartbeats in their data\n",
        "    \"\"\"\n",
        "    data = Path('./data')\n",
        "    patients_with_pvc = []\n",
        "\n",
        "    # YOUR CODE HERE\n",
        "    for file in data.iterdir():\n",
        "        if file.suffix == '.csv' and file.stem.endswith('_pvc'):\n",
        "            # Extracting patient_id from the filename\n",
        "            patient_id = int(file.stem.replace('_pvc', ''))\n",
        "\n",
        "            # Checking if corresponding normal file exists\n",
        "            normal_file = data / f\"{patient_id}_all.csv\"\n",
        "            pvc_file = data / f\"{patient_id}_pvc.csv\"\n",
        "\n",
        "            # Checking if both normal and pvc files exist and are not empty\n",
        "            if pd.read_csv(normal_file).shape[0] > 50 and pd.read_csv(pvc_file).shape[0] > 0:\n",
        "                patients_with_pvc.append(patient_id)\n",
        "\n",
        "    patients_with_pvc = np.array(patients_with_pvc, dtype=np.int32)\n",
        "    return patients_with_pvc\n"
      ]
    },
    {
      "cell_type": "code",
      "execution_count": 21,
      "metadata": {
        "deletable": false,
        "editable": false,
        "nbgrader": {
          "cell_type": "code",
          "checksum": "eb51f68af57b73f5e98be8695d4cf381",
          "grade": true,
          "grade_id": "pvc-ids-tests",
          "locked": true,
          "points": 4,
          "schema_version": 3,
          "solution": false,
          "task": false
        },
        "tags": [],
        "id": "dfzOaIo_meHD",
        "colab": {
          "base_uri": "https://localhost:8080/"
        },
        "outputId": "1b2fa437-ded4-4af2-be06-b94759752c73"
      },
      "outputs": [
        {
          "output_type": "stream",
          "name": "stdout",
          "text": [
            "\n",
            "\n",
            "\t\tPreliminary Tests Passed :)\n",
            "\n",
            "\n"
          ]
        }
      ],
      "source": [
        "##### DO NOT MODIFY THE LINES OF CODE IN THIS BLOCK\n",
        "#Run Test your pvc_ids function\n",
        "\n",
        "#Remember that the output of pvc_ids has to be a numpy array of integers\n",
        "### BEGIN TESTS\n",
        "patients_with_pvc= np.sort(pvc_ids())\n",
        "assert isinstance(patients_with_pvc[1], np.int32), f\"Your function gives values that are not of the correct type\"\n",
        "assert patients_with_pvc.size==30,f\"You function is not working properly, you are missing or lacking one or more patients\"\n",
        "assert not (101 in patients_with_pvc),f\"You have selected a patient that does not fulfill the criteria. Some patients only have PVC heartbeats and no normal ones\"\n",
        "assert not (220 in patients_with_pvc),f\"You have selected a patient that does not fulfill the criteria. Some patients only have PVC heartbeats and no normal ones\"\n",
        "assert patients_with_pvc[3] == 105, f\"You function is not working properly, a value in your array seems to be incorrect\"\n",
        "assert patients_with_pvc[7] == 116, f\"You function is not working properly, a value in your array seems to be incorrect\"\n",
        "assert patients_with_pvc[24] == 223, f\"You function is not working properly, a value in your array seems to be incorrect\"\n",
        "\n",
        "print(\"\\n\\n\\t\\tPreliminary Tests Passed :)\\n\\n\")\n",
        "### END TESTS\n"
      ]
    },
    {
      "cell_type": "code",
      "execution_count": 22,
      "metadata": {
        "deletable": false,
        "nbgrader": {
          "cell_type": "code",
          "checksum": "076f3c10ada59b15cf62be4171d3efeb",
          "grade": false,
          "grade_id": "label-vectors",
          "locked": false,
          "schema_version": 3,
          "solution": true,
          "task": false
        },
        "tags": [],
        "id": "o1mWnIXXmeHE"
      },
      "outputs": [],
      "source": [
        "#B) Create label vectors\n",
        "def create_label_vectors():\n",
        "    \"\"\"Function that labels the R peaks of patients. The order should include the id of the patient first,\n",
        "    followed by the index location of the R peak and finally the label of the peak.\n",
        "\n",
        "    Returns:\n",
        "        all_beat_labels: A dataframe with 3 rows with the headers for patient_id , R peaks and heartbeat labels, which contains\n",
        "        the information of all heartbeats and classifies them either as normal (\"N\") or PVC (\"PVC\")\n",
        "\n",
        "        Example output (YOU HAVE TO COPY THE EXACT FORMAT FOR THE AUTOMATIC GRADING TO WORK):\n",
        "         patient_id     R      label\n",
        "0        100            77     N\n",
        "1        100            370    N\n",
        "2        100            662    N\n",
        "3        100            946    N\n",
        ".\n",
        ".\n",
        ".\n",
        ".\n",
        "55       100           32675   PVC\n",
        "    \"\"\"\n",
        "    # YOUR CODE HERE\n",
        "    data_folder = Path('./data')\n",
        "    all_beat_labels = pd.DataFrame()\n",
        "    id =np.sort(pvc_ids())\n",
        "\n",
        "    for patient_id in id:\n",
        "        # Constructing file paths\n",
        "        normal_file = data_folder / f\"{patient_id}_all.csv\"\n",
        "        pvc_file = data_folder / f\"{patient_id}_pvc.csv\"\n",
        "\n",
        "        # Reading R peaks data for normal beats\n",
        "        if normal_file.is_file():\n",
        "            rpeaks_data = pd.read_csv(normal_file)\n",
        "            rpeaks_data['patient_id'] = patient_id\n",
        "\n",
        "            # Initialize label column with 'N'\n",
        "            rpeaks_data['label'] = 'N'\n",
        "\n",
        "            # Read PVC file and update labels for PVC peaks\n",
        "            if pvc_file.is_file():\n",
        "                pvc_data = pd.read_csv(pvc_file)\n",
        "                rpeaks_data.loc[rpeaks_data['R'].isin(pvc_data['PVC']), 'label'] = 'PVC'\n",
        "\n",
        "            # Append to the main dataframe\n",
        "            all_beat_labels = pd.concat([all_beat_labels, rpeaks_data[['patient_id', 'R', 'label']]], ignore_index=True)\n",
        "    return all_beat_labels\n",
        "\n",
        "\n"
      ]
    },
    {
      "cell_type": "code",
      "execution_count": 23,
      "metadata": {
        "deletable": false,
        "editable": false,
        "nbgrader": {
          "cell_type": "code",
          "checksum": "ec83d64e592811b4ebda8a6db5502d6d",
          "grade": true,
          "grade_id": "label-vectors-test",
          "locked": true,
          "points": 6,
          "schema_version": 3,
          "solution": false,
          "task": false
        },
        "tags": [],
        "id": "1-0U6oOtmeHE",
        "colab": {
          "base_uri": "https://localhost:8080/"
        },
        "outputId": "c9080a3c-ff36-4844-d450-43a8a952a543"
      },
      "outputs": [
        {
          "output_type": "stream",
          "name": "stdout",
          "text": [
            "\n",
            "\n",
            "\t\tPreliminary Tests Passed :)\n",
            "\n",
            "\n"
          ]
        }
      ],
      "source": [
        "##### DO NOT MODIFY THE LINES OF CODE IN THIS BLOCK\n",
        "#Test your create_label_vectors function\n",
        "\n",
        "#REMEMBER TO USE THE FORMAT GIVEN IN EXAMPLE OUTPUT (even the header names)\n",
        "\n",
        "### BEGIN TESTS\n",
        "all_beat_labels = create_label_vectors()\n",
        "assert isinstance(all_beat_labels.loc[4][\"R\"], np.int64), \"The datatype you are returning is incorrect\"\n",
        "assert all_beat_labels.size==187470, f\"There is something wrong in your function, the size of the dataframe does not match the solution\"\n",
        "assert all_beat_labels.loc[4][\"R\"]== 1231,f\"There is something wrong in your function, there is a value mismatch with the correct answer\"\n",
        "assert all_beat_labels.loc[499][\"R\"]== 145111,f\"There is something wrong in your function, there is a value mismatch with the correct answer\"\n",
        "assert all_beat_labels.loc[4999][\"patient_id\"]== 105,f\"There is something wrong in your function, there is a value mismatch with the correct answer\"\n",
        "assert all_beat_labels.loc[62488][\"patient_id\"]== 234,f\"There is something wrong in your function, there is a value mismatch with the correct answer\"\n",
        "assert all_beat_labels.loc[3195][\"label\"]== \"N\",f\"There is something wrong in your function, there is a value mismatch with the correct answer\"\n",
        "assert all_beat_labels.loc[31915][\"label\"]== \"N\",f\"There is something wrong in your function, there is a value mismatch with the correct answer\"\n",
        "assert all_beat_labels.loc[2339][\"label\"]== \"PVC\",f\"There is something wrong in your function, there is a value mismatch with the correct answer\"\n",
        "\n",
        "\n",
        "print(\"\\n\\n\\t\\tPreliminary Tests Passed :)\\n\\n\")\n",
        "### END TESTS\n",
        "\n"
      ]
    },
    {
      "cell_type": "code",
      "execution_count": 24,
      "metadata": {
        "deletable": false,
        "nbgrader": {
          "cell_type": "code",
          "checksum": "d7a3c54f1892939d89901463ad47cf5d",
          "grade": false,
          "grade_id": "Heartbeat-count",
          "locked": false,
          "schema_version": 3,
          "solution": true,
          "task": false
        },
        "tags": [],
        "id": "qjcUN-4imeHE"
      },
      "outputs": [],
      "source": [
        "#C)  Count PVC vs non PVC heartbeats\n",
        "def count_heartbeats(all_beat_labels):\n",
        "    \"\"\"Function that obtains the count number of normal and PVC heartbeats for all patients\n",
        "\n",
        "    Arguments: all_beat_labels: A dataframe with the same format as the previous task b)\n",
        "\n",
        "    Returns:\n",
        "        N: The total number of normal Heartbeats within the dataframe\n",
        "        PVC: The total number of PVC Heartbeats within the dataframe\n",
        "    \"\"\"\n",
        "    # YOUR CODE HERE\n",
        "    heartbeat_counts = all_beat_labels['label'].value_counts()\n",
        "\n",
        "    # Extract counts for normal and PVC heartbeats\n",
        "    N = heartbeat_counts.get('N')\n",
        "    PVC = heartbeat_counts.get('PVC')\n",
        "    return N, PVC\n",
        "\n"
      ]
    },
    {
      "cell_type": "code",
      "execution_count": 25,
      "metadata": {
        "deletable": false,
        "editable": false,
        "nbgrader": {
          "cell_type": "code",
          "checksum": "349a77731a2f513d5c43d21d8044e78b",
          "grade": true,
          "grade_id": "Heartbeat-count-test",
          "locked": true,
          "points": 2,
          "schema_version": 3,
          "solution": false,
          "task": false
        },
        "tags": [],
        "id": "Hx8qpJ63meHE",
        "colab": {
          "base_uri": "https://localhost:8080/"
        },
        "outputId": "d8f73c72-169d-414d-aef7-ede3707d8853"
      },
      "outputs": [
        {
          "output_type": "stream",
          "name": "stdout",
          "text": [
            "Normal Heartbeats:  55882 \n",
            "PVC Heartbeats:  6608\n",
            "\n",
            "\n",
            "\t\tPreliminary Tests Passed :)\n",
            "\n",
            "\n"
          ]
        }
      ],
      "source": [
        "##### DO NOT MODIFY THE LINES OF CODE IN THIS BLOCK\n",
        "##Run this cell to check your count_heartbeats function implementation\n",
        "#Remember that there are hidden tests, so don't just create a function that delivers the values in the assert ;)\n",
        "\n",
        "### BEGIN TESTS\n",
        "N, PVC =  count_heartbeats(all_beat_labels)\n",
        "print(\"Normal Heartbeats: \",N,\"\\nPVC Heartbeats: \",PVC)\n",
        "\n",
        "assert N == 55882,f\"Your function is not counting the heartbeats properly\"\n",
        "assert PVC== 6608,f\"Your function is not counting the heartbeats properly\"\n",
        "\n",
        "\n",
        "print(\"\\n\\n\\t\\tPreliminary Tests Passed :)\\n\\n\")\n",
        "### END TESTS\n"
      ]
    },
    {
      "cell_type": "markdown",
      "metadata": {
        "id": "AZ6jzyTImeHE"
      },
      "source": [
        "## Ex. 12.2: Calculating features\n",
        "\n",
        "As we learned in the lecture, we need to reduce the dimensionality of our data by calculating features for each heartbeat.\n",
        "\n",
        "a) Using the code from last exercise, extract all heartbeats from the selected patients.\n",
        "\n",
        "b) Calculate all features from last exercise for all heart beats. Use the first **healthy** heart beat of each patient for the template feature.\n",
        "\n",
        "c) Calculate a set of “generic” features for each heart beat: *mean*, *std*, *minimum*, *maximum*\n",
        "\n",
        "d) Compose all features into one matrix, where each row belongs to one heartbeat. Create a single matrix/`pd.DataFrame` combining all patients.\n",
        "Also like in the last exercise, before calculating the features utilize a 3-50 Hz fifth order Butterworth Bandpass filter on the ECG signal of each patient"
      ]
    },
    {
      "cell_type": "code",
      "execution_count": 91,
      "metadata": {
        "tags": [],
        "id": "wwgcuLApmeHE"
      },
      "outputs": [],
      "source": [
        "# Helper funcs from last exercise\n",
        "def extract_qrst_complexes(signal, r_peaks, sampling_rate=360):\n",
        "    \"\"\"Extract all qrst complexes from a continous signal.\n",
        "\n",
        "    Cuts out a region of -50ms to 300ms around each provided R-peak\n",
        "\n",
        "    Args:\n",
        "        signal: np.array of ecg signal\n",
        "        r_peaks: list of indices indicating the postion of R-peaks in the signal\n",
        "        sampling_rate: Ssampling rate of the recording\n",
        "\n",
        "    Returns:\n",
        "        qrst (np.array): array with fixed number of culumns and one qrst complex per row\n",
        "    \"\"\"\n",
        "    signal = np.array(signal)\n",
        "    start = r_peaks - int(50 / 1000 * sampling_rate)\n",
        "    end = r_peaks + int(300 / 1000 * sampling_rate)\n",
        "\n",
        "    qrst = []\n",
        "    for s, e in zip(start, end):\n",
        "        qrst.append(signal[s:e])\n",
        "    qrst = np.array(qrst)\n",
        "    return qrst\n",
        "\n",
        "def find_q_peak(qrst, sampling_rate=360):\n",
        "    \"\"\"Find the Q peak in an array of qrst complexes extracted before.\n",
        "\n",
        "    The Q peak is the first valley to the left of the R-Peak\n",
        "\n",
        "    Returns:\n",
        "        index_q (np.array, dtype=np.int): array of the relative distance from the R-Peak in samples\n",
        "    \"\"\"\n",
        "    r_peak_pos = int(50/1000 * sampling_rate)\n",
        "    index_q = np.argmin(qrst[:, :r_peak_pos], axis=-1)\n",
        "    index_q = r_peak_pos - index_q\n",
        "    return index_q\n",
        "\n",
        "def find_s_peak(qrst, sampling_rate=360):\n",
        "    \"\"\"Find the S peak in an array of qrst complexes extracted before.\n",
        "\n",
        "    The S peak is the first valley to the right of the R-Peak\n",
        "\n",
        "    Returns:\n",
        "        index_s (np.array, dtype=np.int): array of the relative distance from the R-Peak in samples\n",
        "    \"\"\"\n",
        "    r_peak_pos = int(50/1000 * sampling_rate)\n",
        "    # Search 80ms to the right of the r_peak\n",
        "    search_index = int(80/1000 * sampling_rate)\n",
        "\n",
        "    index_s = np.argmin(qrst[:, r_peak_pos: r_peak_pos + search_index], axis=-1)\n",
        "    index_s = index_s\n",
        "    return index_s"
      ]
    },
    {
      "cell_type": "code",
      "execution_count": 108,
      "metadata": {
        "deletable": false,
        "nbgrader": {
          "cell_type": "code",
          "checksum": "7fd374cc14f3e437e3eef7e06f491a35",
          "grade": false,
          "grade_id": "patient-features-calc",
          "locked": false,
          "schema_version": 3,
          "solution": true,
          "task": false
        },
        "tags": [],
        "id": "99XPTmadmeHF"
      },
      "outputs": [],
      "source": [
        "# Functions for task b)\n",
        "\n",
        "def qrs_width_calc(peaks,sampling_rate=360):\n",
        "    \"\"\"Extract the QRS width for a given ECG signal and its peaks\n",
        "\n",
        "    Args:\n",
        "        signal: np.array of ecg signal\n",
        "        peaks: pd.DataFrame with columns called \"R\",\"Q\" and \"S\" containing the position of all R-, Q- and S-peaks respectively\n",
        "        sampling_rate: Sampling rate of the recording\n",
        "\n",
        "    Returns:\n",
        "        QRS_Width (np.array, dtype=np.float): Array with the information of all the QRS widths (in seconds)\n",
        "    \"\"\"\n",
        "\n",
        "    # YOUR CODE HERE\n",
        "    QRS_Width=(peaks['S']/sampling_rate) - (peaks['Q']/sampling_rate)\n",
        "    QRS_Width=np.array(QRS_Width)\n",
        "\n",
        "\n",
        "\n",
        "    return QRS_Width\n",
        "\n",
        "def qr_amplitude_calc(signal,peaks):\n",
        "    \"\"\"Extract the QR Amplitude for a given ECG signal and its peaks\n",
        "\n",
        "    Args:\n",
        "        signal: np.array of ecg signal\n",
        "        peaks: pd.DataFrame with columns called \"R\",\"Q\" and \"S\" containing the position of all R-, Q- and S-peaks respectively\n",
        "        sampling_rate: Sampling rate of the recording\n",
        "\n",
        "    Returns:\n",
        "        QR_Amplitude (np.array, dtype=np.float): Array with the information of all the QR Amplitudes\n",
        "    \"\"\"\n",
        "    # Calculate the amplitude difference between the R-peak and the Q-valey\n",
        "    # YOUR CODE HERE\n",
        "    QR_Amplitude = []\n",
        "    QR_Amplitude = np.array([signal[r] - signal[q] for r, q in zip(peaks['R'], peaks['Q'])])\n",
        "\n",
        "    return QR_Amplitude\n",
        "\n",
        "def rs_amplitude_calc(signal,peaks):\n",
        "    \"\"\"Extract the RS Amplitude for a given ECG signal and its peaks\n",
        "\n",
        "    Args:\n",
        "        signal: np.array of ecg signal\n",
        "        peaks: pd.DataFrame with columns called \"R\",\"Q\" and \"S\" containing the position of all R-, Q- and S-peaks respectively\n",
        "        sampling_rate: Sampling rate of the recording\n",
        "\n",
        "    Returns:\n",
        "        QR_Amplitude (np.array, dtype=np.float): Array with the information of all the RS Amplitudes\n",
        "    \"\"\"\n",
        "    # Calculate the amplitude difference between the R-peak and the S-valey\n",
        "    # YOUR CODE HERE\n",
        "    RS_Amplitude = []\n",
        "\n",
        "    RS_Amplitude = np.array([signal[r] - signal[s] for r, s in zip(peaks['R'], peaks['S'])])\n",
        "    return RS_Amplitude\n",
        "\n",
        "\n",
        "def qrst_area_calc(qrst_complexes):\n",
        "    \"\"\"Extract the QRST area for a given ECG signal and its peaks\n",
        "\n",
        "    Args:\n",
        "        qrst_complexes: np.array with fixed number of columns and one qrst complex per row\n",
        "\n",
        "    Returns:\n",
        "        QRST_Area (np.array, dtype=np.float): Array with the information of all the QRST areas\n",
        "    \"\"\"\n",
        "    # Calculate the area under each QRST complex after substracting the mean value of each complex to normalize the baseline\n",
        "    # YOUR CODE HERE\n",
        "    QRST_Area=(np.sum(np.abs((qrst_complexes.T - np.mean(qrst_complexes, axis=-1)).T), axis=-1))\n",
        "\n",
        "\n",
        "    return QRST_Area\n",
        "\n",
        "def template_calc(qrst_complexes,labels):\n",
        "    \"\"\"Extract the first QRS template for a given qrst complexes array\n",
        "\n",
        "    Args:\n",
        "        qrst_complexes: np.array with fixed number of columns and one qrst complex per row\n",
        "\n",
        "    Returns:\n",
        "        Template: First healthy QRS complex\n",
        "    \"\"\"\n",
        "    # Find the first \"normal QRS\" complex\n",
        "    # Assume the first peak in the series is a normal QRST complex\n",
        "    # Substract the baseline (minimum) from every qrst complex and then calculate the normalised dot-product\n",
        "\n",
        "    # YOUR CODE HERE\n",
        "    baseline_qrst = (qrst_complexes.T - np.min(qrst_complexes, axis=-1)).T\n",
        "    baseline_norm = np.linalg.norm(baseline_qrst, axis=-1)\n",
        "\n",
        "    numerator = np.dot(baseline_qrst, baseline_qrst[0])\n",
        "    numerator /= baseline_norm * baseline_norm[0]\n",
        "    Template=np.array(numerator)\n",
        "    return Template\n",
        "\n",
        "# Function for task c)\n",
        "def generic_features_calc(qrst_complexes):\n",
        "    \"\"\"Extract the generic information of the QRSt complexes to use as features\n",
        "\n",
        "    Args:\n",
        "        qrst_complexes: np.array with fixed number of columns and one qrst complex per row\n",
        "\n",
        "    Returns:\n",
        "        Mean: The mean value of the QRST complexes\n",
        "        Std:  The standard deviation value of the QRST complexes\n",
        "        Min:  The minimum value of the QRST complexes\n",
        "        Max:  The maximum value of the QRST complexes\n",
        "    \"\"\"\n",
        "\n",
        "    # YOUR CODE HERE\n",
        "    Mean = np.mean(qrst_complexes,axis=-1)\n",
        "    Std = np.std(qrst_complexes,axis=-1)\n",
        "    Min = np.min(qrst_complexes,axis=-1)\n",
        "    Max = np.max(qrst_complexes,axis=-1)\n",
        "    return Mean, Std, Min, Max\n",
        "\n",
        "\n",
        "def calc_all_features_for_patient(signal, peaks, labels):\n",
        "    \"\"\"Extract all heartbeats and calc all features for a patient.\n",
        "\n",
        "    Args:\n",
        "        signal: np.array of ecg signal\n",
        "        peaks: pd.DataFrame with a column called \"R\" containing the position of all R-peaks\n",
        "        labels: array with either \"N\" or \"PVC\" for each r-peak\n",
        "\n",
        "    Returns:\n",
        "        pd.DataFrame with 1 column per feature and 1 column for the label\n",
        "    \"\"\"\n",
        "    peaks = peaks.copy()\n",
        "    # Remove peaks that are too close to the beginning or end of the dataset\n",
        "    peaks = peaks[peaks['R'].between(20, len(signal) - 110)]\n",
        "\n",
        "    # Extract the individual complexeses and important events withing the complex\n",
        "    qrst_complexes = extract_qrst_complexes(signal, peaks['R'], sampling_rate=360)\n",
        "    peaks['Q'] = peaks['R'] - find_q_peak(qrst_complexes)\n",
        "    peaks['S'] = peaks['R'] + find_s_peak(qrst_complexes)\n",
        "\n",
        "    features = pd.DataFrame()\n",
        "\n",
        "    # Calculate all features from last week\n",
        "\n",
        "    # QRS Width\n",
        "    features['QRS_Width'] = qrs_width_calc(peaks,sampling_rate=360)\n",
        "\n",
        "    # QR Amplitude difference\n",
        "    features['QR_amplitude'] = qr_amplitude_calc(signal,peaks)\n",
        "\n",
        "    # RS Amplitude difference\n",
        "    features['RS_amplitude'] = rs_amplitude_calc(signal,peaks)\n",
        "\n",
        "    # QRST Area\n",
        "    features['QRST_area'] = qrst_area_calc(qrst_complexes)\n",
        "\n",
        "    # Template Match\n",
        "    features['Template'] = template_calc(qrst_complexes,labels)\n",
        "\n",
        "    # Calculate a set of generic features\n",
        "    features['Mean'],features['Std'],features['Min'], features['Max'] = generic_features_calc(qrst_complexes)\n",
        "\n",
        "    # Add the label column\n",
        "    features['label'] = labels\n",
        "\n",
        "    return features\n"
      ]
    },
    {
      "cell_type": "code",
      "execution_count": 109,
      "metadata": {
        "deletable": false,
        "editable": false,
        "nbgrader": {
          "cell_type": "code",
          "checksum": "abc1947d6244588641cd0c73b5a55c78",
          "grade": true,
          "grade_id": "patient-features-calc-tests",
          "locked": true,
          "points": 4,
          "schema_version": 3,
          "solution": false,
          "task": false
        },
        "tags": [],
        "id": "pwdhFI5HmeHF",
        "colab": {
          "base_uri": "https://localhost:8080/"
        },
        "outputId": "268b842a-2c12-4318-8791-103285b81256"
      },
      "outputs": [
        {
          "output_type": "stream",
          "name": "stdout",
          "text": [
            "\n",
            "\n",
            "\t\tBeginning tests\n",
            "\n",
            "\n"
          ]
        }
      ],
      "source": [
        "##### DO NOT MODIFY THE LINES OF CODE IN THIS BLOCK\n",
        "## Run this block to test all of your function implementations within calc_all_features_for_patient\n",
        "\n",
        "print(\"\\n\\n\\t\\tBeginning tests\\n\\n\")\n",
        "\n",
        "######################preliminary preparations#################################\n",
        "sampling_rate=360\n",
        "#Read patient file\n",
        "\n",
        "\n",
        "for patient in patients_with_pvc:\n",
        "    Test_signal = pd.read_csv('./data/{}.csv'.format(patient), index_col=0)['ecg']\n",
        "\n",
        "    Test_beats = all_beat_labels[all_beat_labels['patient_id'] == patient]\n",
        "    break\n",
        "\n",
        "#Get labels and peaks in the same format as the calc_all_features_for_patient function\n",
        "Test_labels = Test_beats['label']\n",
        "Test_peaks = Test_beats[['R']].copy()\n",
        "Test_peaks = Test_peaks[Test_peaks['R'].between(20, len(Test_signal) - 110)]\n",
        "\n",
        "\n",
        "# Extract the individual complexeses and important events withing the complex\n",
        "Test_complexes = extract_qrst_complexes(Test_signal, Test_peaks['R'])\n",
        "\n",
        "Test_peaks['Q'] = Test_peaks['R'] - find_q_peak(Test_complexes)\n",
        "Test_peaks['S'] = Test_peaks['R'] + find_s_peak(Test_complexes)\n",
        "\n",
        "#################### Begin non-hidden asserts###################################\n",
        "\n",
        "#Test QRS width\n",
        "QRS_Width = qrs_width_calc(Test_peaks,sampling_rate=360)\n",
        "\n",
        "assert np.max(QRS_Width)<1,f\"Your QRS Width calculator output does not match the size of the result, you probably forgot to give the output in seconds instead of samples\"\n",
        "assert QRS_Width.size == 2239,f\"Your QRS Width calculator output does not match the size of the result\"\n",
        "assert np.around(np.mean(QRS_Width),4)==0.0457,f\"Your QRS Width calculator output does not match the correct result\"\n",
        "\n",
        "\n",
        "#Test QR amplitude\n",
        "QR_Amplitude = qr_amplitude_calc(Test_signal,Test_peaks)\n",
        "\n",
        "assert QR_Amplitude.size == 2239,f\"Your QR Amplitude calculator output does not match the size of the result\"\n",
        "assert np.around(np.mean(QR_Amplitude),4)==1.5213,f\"Your QR Amplitude calculator output does not match the correct result\"\n",
        "\n",
        "#Test RS amplitude\n",
        "RS_Amplitude = rs_amplitude_calc(Test_signal,Test_peaks)\n",
        "\n",
        "assert RS_Amplitude.size == 2239,f\"Your RS Amplitude calculator output does not match the size of the result\"\n",
        "assert np.around(np.mean(RS_Amplitude),4)==1.4566,f\"Your RS Amplitude calculator output does not match the correct result\"\n",
        "\n",
        "#Test QRST AREA\n",
        "QRST_Area = qrst_area_calc(Test_complexes)\n",
        "\n",
        "assert QRST_Area.size == 2239,f\"Your QR Amplitude calculator output does not match the size of the result\"\n",
        "assert np.around(np.mean(QRST_Area),4)==17.24,f\"Your QRST Area calculator output does not match the correct result\"\n"
      ]
    },
    {
      "cell_type": "code",
      "execution_count": 110,
      "metadata": {
        "deletable": false,
        "editable": false,
        "nbgrader": {
          "cell_type": "code",
          "checksum": "8d7d8b7f38847d3cfca795fc42a82d54",
          "grade": true,
          "grade_id": "cell-0c5c20b5f69621e4",
          "locked": true,
          "points": 6,
          "schema_version": 3,
          "solution": false,
          "task": false
        },
        "tags": [],
        "id": "tQfk_ehxmeHF",
        "colab": {
          "base_uri": "https://localhost:8080/"
        },
        "outputId": "f65ffd14-a6c1-475f-8077-d4705aef596a"
      },
      "outputs": [
        {
          "output_type": "stream",
          "name": "stdout",
          "text": [
            "\n",
            "\n",
            "\t\tBeginning tests\n",
            "\n",
            "\n",
            "\n",
            "\n",
            "\t\tAll Preliminary Tests Passed :)\n",
            "\n",
            "\n"
          ]
        }
      ],
      "source": [
        "##### DO NOT MODIFY THE LINES OF CODE IN THIS BLOCK\n",
        "## Run this block to test all of your function implementations within calc_all_features_for_patient\n",
        "\n",
        "print(\"\\n\\n\\t\\tBeginning tests\\n\\n\")\n",
        "\n",
        "######################preliminary preparations#################################\n",
        "sampling_rate=360\n",
        "#Read patient file\n",
        "\n",
        "\n",
        "for patient in patients_with_pvc:\n",
        "    Test_signal = pd.read_csv('./data/{}.csv'.format(patient), index_col=0)['ecg']\n",
        "\n",
        "    Test_beats = all_beat_labels[all_beat_labels['patient_id'] == patient]\n",
        "    break\n",
        "\n",
        "#Get labels and peaks in the same format as the calc_all_features_for_patient function\n",
        "Test_labels = Test_beats['label']\n",
        "Test_peaks = Test_beats[['R']].copy()\n",
        "Test_peaks = Test_peaks[Test_peaks['R'].between(20, len(Test_signal) - 110)]\n",
        "\n",
        "\n",
        "# Extract the individual complexeses and important events withing the complex\n",
        "Test_complexes = extract_qrst_complexes(Test_signal, Test_peaks['R'])\n",
        "\n",
        "Test_peaks['Q'] = Test_peaks['R'] - find_q_peak(Test_complexes)\n",
        "Test_peaks['S'] = Test_peaks['R'] + find_s_peak(Test_complexes)\n",
        "\n",
        "#################### Begin non-hidden asserts###################################\n",
        "\n",
        "#Test Template\n",
        "Template = template_calc(Test_complexes,Test_labels)\n",
        "\n",
        "assert Template.size == 2239,f\"Your QR Amplitude calculator output does not match the size of the result\"\n",
        "assert np.trunc(Template[0]) ==1,f\"Your Template calculator output is incorrect, the first heartbeat is the template and thus should perfectly match the template (have a value of 1)\"\n",
        "RestTest = Template[1:]\n",
        "assert np.max(RestTest)<1,f\"Your Template calculator output is incorrect, no heartbeat after the first one should match the template perfectly (they should have a value lower than 1)\"\n",
        "assert np.trunc(Template[0]) ==1,f\"Your Template calculator output is incorrect, the first heartbeat is the template and thus should perfectly match the template (have a value of 1)\"\n",
        "assert np.around(np.mean(Template),4)==0.9836,f\"Your QRST Area calculator output does not match the correct result\"\n",
        "\n",
        "#Test Generic features\n",
        "Mean1, Std1, Min1, Max1 = generic_features_calc(Test_complexes)\n",
        "\n",
        "assert (Mean1.size and Std1.size and Min1.size and Max1.size) == 2239,f\"Your Generic features do not match the size of the result\"\n",
        "assert np.around(np.mean(Mean1),4)==-0.3239,f\"Your calculated Mean does not match the correct result\"\n",
        "assert np.around(np.mean(Std1),4)==0.2718,f\"Your calculated standard deviation does not match the correct result\"\n",
        "assert np.around(np.mean(Min1),4)==-0.5604,f\"Your calculated Minimum does not match the correct result\"\n",
        "assert np.around(np.mean(Max1),4)==0.986,f\"Your calculated Maximum does not match the correct result\"\n",
        "\n",
        "print(\"\\n\\n\\t\\tAll Preliminary Tests Passed :)\\n\\n\")\n"
      ]
    },
    {
      "cell_type": "code",
      "execution_count": 113,
      "metadata": {
        "deletable": false,
        "nbgrader": {
          "cell_type": "code",
          "checksum": "673e95da4a73e820754758d17e54fdda",
          "grade": false,
          "grade_id": "All-patients-features",
          "locked": false,
          "schema_version": 3,
          "solution": true,
          "task": false
        },
        "tags": [],
        "id": "IfEvXfd7meHF"
      },
      "outputs": [],
      "source": [
        "#Task d)\n",
        "\n",
        "sampling_rate = 360  # hz\n",
        "\n",
        "\n",
        "def All_Patients_Features():\n",
        "    \"\"\"\n",
        "    Use the previously programmed function calc_all_features_for_patient to obtain the features of all the heartbeats for all patients\n",
        "    Remember to also apply a 5th order Butterworth 3-50 Hz bandpass filter to each signal obtaining the peaks and features.\n",
        "\n",
        "\n",
        "    Returns:\n",
        "    pd.DataFrame with the heartbeat features of all patients with the columns given by the calc_all_features_for_patient output\n",
        "\n",
        "    Example Output for the first 2 elements:\n",
        "\n",
        "        QRS_Width \tQR_amplitude \tRS_amplitude \tQRST_area \tTemplate \tMean    \tStd     \tMin     \tMax     \tlabel\n",
        "    0 \t0.047222 \t1.304419    \t1.272772    \t12.740725 \t1.000000 \t0.007252 \t0.211623 \t-0.254819 \t1.049600 \tN\n",
        "    1 \t0.052778 \t1.473421    \t1.399725    \t16.753887 \t0.991165 \t0.009106 \t0.254250 \t-0.311316 \t1.162106 \tN\n",
        "\n",
        "    DUE TO GRADING PURPOSES, THE OUTPUT NEEDS TO PERFECTLY MATCH THIS FORMAT\n",
        "    \"\"\"\n",
        "    feature_all_patients = []\n",
        "    # YOUR CODE HERE\n",
        "    # Initialize an empty DataFrame to store features for all patients\n",
        "    feature_all_patients = pd.DataFrame()  # Initialize an empty DataFrame\n",
        "    b, a = scipy.signal.butter(5, (3, 50), btype='bandpass', fs=sampling_rate)\n",
        "    patients_with_pvc= np.sort(pvc_ids())\n",
        "\n",
        "\n",
        "\n",
        "    for patient in patients_with_pvc:\n",
        "\n",
        "        # Load ECG signal\n",
        "        signal = pd.read_csv('./data/{}.csv'.format(patient), index_col=0)['ecg']\n",
        "\n",
        "        # Apply bandpass filter\n",
        "\n",
        "        filtered_signal=pd.Series(scipy.signal.filtfilt(b,a, signal)).reset_index(drop=True)\n",
        "\n",
        "        # Get beats and labels\n",
        "        beats = all_beat_labels[all_beat_labels['patient_id'] == patient]\n",
        "        labels = beats['label'].reset_index(drop=True)\n",
        "\n",
        "        peaks = beats[['R']].copy().reset_index(drop=True)\n",
        "\n",
        "        features_patient = calc_all_features_for_patient(filtered_signal, peaks, labels)\n",
        "\n",
        "\n",
        "\n",
        "\n",
        "\n",
        "\n",
        "        feature_all_patients = pd.concat([feature_all_patients, features_patient], ignore_index=True)\n",
        "\n",
        "\n",
        "    return feature_all_patients\n"
      ]
    },
    {
      "cell_type": "code",
      "execution_count": 114,
      "metadata": {
        "deletable": false,
        "editable": false,
        "nbgrader": {
          "cell_type": "code",
          "checksum": "ec8758f6adbc2fcd0beea1193c6e5365",
          "grade": true,
          "grade_id": "cell-cdbb95b9418db705",
          "locked": true,
          "points": 8,
          "schema_version": 3,
          "solution": false,
          "task": false
        },
        "tags": [],
        "id": "uAa_7AETmeHG",
        "colab": {
          "base_uri": "https://localhost:8080/",
          "height": 768
        },
        "outputId": "38a562ee-ec46-45e9-9f5c-18cba59240d5"
      },
      "outputs": [
        {
          "output_type": "stream",
          "name": "stdout",
          "text": [
            "       QRS_Width  QR_amplitude  RS_amplitude  QRST_area  Template      Mean  \\\n",
            "0       0.047222      1.304419      1.272772  12.740725  1.000000  0.007252   \n",
            "1       0.052778      1.473421      1.399725  16.753887  0.991165  0.009106   \n",
            "2       0.044444      1.461040      1.428218  13.951622  0.984203  0.005351   \n",
            "3       0.047222      1.442177      1.351256  13.375388  0.983333  0.004366   \n",
            "4       0.044444      1.344296      1.313935  12.736080  0.996275  0.004360   \n",
            "...          ...           ...           ...        ...       ...       ...   \n",
            "62473   0.061111      1.939435      1.911400  25.742790  0.987267  0.026116   \n",
            "62474   0.061111      2.068308      2.080552  26.430184  0.998068  0.028902   \n",
            "62475   0.083333      2.028818      1.985755  25.956897  0.998109  0.030369   \n",
            "62476   0.091667      2.026487      1.932970  27.117158  0.996676  0.031794   \n",
            "62477   0.061111      1.983105      1.933376  26.871447  0.989467  0.028973   \n",
            "\n",
            "            Std       Min       Max label  \n",
            "0      0.211623 -0.254819  1.049600     N  \n",
            "1      0.254250 -0.311316  1.162106     N  \n",
            "2      0.238643 -0.292782  1.195920     N  \n",
            "3      0.233247 -0.326319  1.147351     N  \n",
            "4      0.212286 -0.265043  1.079253     N  \n",
            "...         ...       ...       ...   ...  \n",
            "62473  0.377422 -0.322644  1.654167     N  \n",
            "62474  0.392535 -0.319718  1.760834     N  \n",
            "62475  0.384149 -0.306463  1.722355     N  \n",
            "62476  0.387642 -0.355755  1.670732     N  \n",
            "62477  0.386860 -0.342959  1.658020     N  \n",
            "\n",
            "[62478 rows x 10 columns]\n"
          ]
        },
        {
          "output_type": "error",
          "ename": "AssertionError",
          "evalue": "Your all_patients_features function output does not match the correct result, check the format or the way you calculated",
          "traceback": [
            "\u001b[0;31m---------------------------------------------------------------------------\u001b[0m",
            "\u001b[0;31mAssertionError\u001b[0m                            Traceback (most recent call last)",
            "\u001b[0;32m<ipython-input-114-697782789c1e>\u001b[0m in \u001b[0;36m<cell line: 0>\u001b[0;34m()\u001b[0m\n\u001b[1;32m      9\u001b[0m \u001b[0;32massert\u001b[0m \u001b[0mfeature_all_patients\u001b[0m\u001b[0;34m.\u001b[0m\u001b[0msize\u001b[0m\u001b[0;34m==\u001b[0m\u001b[0;36m624830\u001b[0m\u001b[0;34m,\u001b[0m\u001b[0;34mf\"Your all_patients_features function is not working properly, the output size does not match the correct results\"\u001b[0m\u001b[0;34m\u001b[0m\u001b[0;34m\u001b[0m\u001b[0m\n\u001b[1;32m     10\u001b[0m \u001b[0;32massert\u001b[0m \u001b[0mnp\u001b[0m\u001b[0;34m.\u001b[0m\u001b[0maround\u001b[0m\u001b[0;34m(\u001b[0m\u001b[0mfeature_all_patients\u001b[0m\u001b[0;34m.\u001b[0m\u001b[0mloc\u001b[0m\u001b[0;34m[\u001b[0m\u001b[0;36m494\u001b[0m\u001b[0;34m]\u001b[0m\u001b[0;34m[\u001b[0m\u001b[0;34m\"QRS_Width\"\u001b[0m\u001b[0;34m]\u001b[0m\u001b[0;34m,\u001b[0m\u001b[0;36m4\u001b[0m\u001b[0;34m)\u001b[0m \u001b[0;34m==\u001b[0m\u001b[0;36m0.0472\u001b[0m \u001b[0;34m,\u001b[0m\u001b[0;34mf\"Your all_patients_features function output does not match the correct result, check the format or the way you calculated\"\u001b[0m\u001b[0;34m\u001b[0m\u001b[0;34m\u001b[0m\u001b[0m\n\u001b[0;32m---> 11\u001b[0;31m \u001b[0;32massert\u001b[0m \u001b[0mnp\u001b[0m\u001b[0;34m.\u001b[0m\u001b[0maround\u001b[0m\u001b[0;34m(\u001b[0m\u001b[0mfeature_all_patients\u001b[0m\u001b[0;34m.\u001b[0m\u001b[0mloc\u001b[0m\u001b[0;34m[\u001b[0m\u001b[0;36m5925\u001b[0m\u001b[0;34m]\u001b[0m\u001b[0;34m[\u001b[0m\u001b[0;34m\"QR_amplitude\"\u001b[0m\u001b[0;34m]\u001b[0m\u001b[0;34m,\u001b[0m\u001b[0;36m4\u001b[0m\u001b[0;34m)\u001b[0m \u001b[0;34m==\u001b[0m\u001b[0;36m1.344\u001b[0m \u001b[0;34m,\u001b[0m\u001b[0;34mf\"Your all_patients_features function output does not match the correct result, check the format or the way you calculated\"\u001b[0m\u001b[0;34m\u001b[0m\u001b[0;34m\u001b[0m\u001b[0m\n\u001b[0m\u001b[1;32m     12\u001b[0m \u001b[0;32massert\u001b[0m \u001b[0mnp\u001b[0m\u001b[0;34m.\u001b[0m\u001b[0maround\u001b[0m\u001b[0;34m(\u001b[0m\u001b[0mfeature_all_patients\u001b[0m\u001b[0;34m.\u001b[0m\u001b[0mloc\u001b[0m\u001b[0;34m[\u001b[0m\u001b[0;36m19\u001b[0m\u001b[0;34m]\u001b[0m\u001b[0;34m[\u001b[0m\u001b[0;34m\"RS_amplitude\"\u001b[0m\u001b[0;34m]\u001b[0m\u001b[0;34m,\u001b[0m\u001b[0;36m4\u001b[0m\u001b[0;34m)\u001b[0m \u001b[0;34m==\u001b[0m\u001b[0;36m1.3971\u001b[0m \u001b[0;34m,\u001b[0m\u001b[0;34mf\"Your all_patients_features function output does not match the correct result, check the format or the way you calculated\"\u001b[0m\u001b[0;34m\u001b[0m\u001b[0;34m\u001b[0m\u001b[0m\n\u001b[1;32m     13\u001b[0m \u001b[0;32massert\u001b[0m \u001b[0mnp\u001b[0m\u001b[0;34m.\u001b[0m\u001b[0maround\u001b[0m\u001b[0;34m(\u001b[0m\u001b[0mfeature_all_patients\u001b[0m\u001b[0;34m.\u001b[0m\u001b[0mloc\u001b[0m\u001b[0;34m[\u001b[0m\u001b[0;36m998\u001b[0m\u001b[0;34m]\u001b[0m\u001b[0;34m[\u001b[0m\u001b[0;34m\"QRST_area\"\u001b[0m\u001b[0;34m]\u001b[0m\u001b[0;34m,\u001b[0m\u001b[0;36m4\u001b[0m\u001b[0;34m)\u001b[0m \u001b[0;34m==\u001b[0m\u001b[0;36m16.9264\u001b[0m \u001b[0;34m,\u001b[0m\u001b[0;34mf\"Your all_patients_features function output does not match the correct result, check the format or the way you calculated\"\u001b[0m\u001b[0;34m\u001b[0m\u001b[0;34m\u001b[0m\u001b[0m\n",
            "\u001b[0;31mAssertionError\u001b[0m: Your all_patients_features function output does not match the correct result, check the format or the way you calculated"
          ]
        }
      ],
      "source": [
        "##### DO NOT MODIFY THE LINES OF CODE IN THIS BLOCK\n",
        "##Use this block to test your All patients Features function\n",
        "### BEGIN TESTS\n",
        "\n",
        "feature_all_patients = All_Patients_Features()\n",
        "print(feature_all_patients.head(-5))\n",
        "\n",
        "\n",
        "assert feature_all_patients.size==624830,f\"Your all_patients_features function is not working properly, the output size does not match the correct results\"\n",
        "assert np.around(feature_all_patients.loc[494][\"QRS_Width\"],4) ==0.0472 ,f\"Your all_patients_features function output does not match the correct result, check the format or the way you calculated\"\n",
        "assert np.around(feature_all_patients.loc[5925][\"QR_amplitude\"],4) ==1.344 ,f\"Your all_patients_features function output does not match the correct result, check the format or the way you calculated\"\n",
        "assert np.around(feature_all_patients.loc[19][\"RS_amplitude\"],4) ==1.3971 ,f\"Your all_patients_features function output does not match the correct result, check the format or the way you calculated\"\n",
        "assert np.around(feature_all_patients.loc[998][\"QRST_area\"],4) ==16.9264 ,f\"Your all_patients_features function output does not match the correct result, check the format or the way you calculated\"\n",
        "assert np.around(feature_all_patients.loc[339][\"Template\"],4) ==0.997 ,f\"Your all_patients_features function output does not match the correct result, check the format or the way you calculated\"\n",
        "assert np.around(feature_all_patients.loc[7736][\"Mean\"],4) ==0.0371 ,f\"Your all_patients_features function output does not match the correct result, check the format or the way you calculated\"\n",
        "assert np.around(feature_all_patients.loc[646][\"Std\"],4) ==0.2418 ,f\"Your all_patients_features function output does not match the correct result, check the format or the way you calculated\"\n",
        "assert np.around(feature_all_patients.loc[646][\"Min\"],4) ==-0.3075 ,f\"Your all_patients_features function output does not match the correct result, check the format or the way you calculated\"\n",
        "assert np.around(feature_all_patients.loc[646][\"Max\"],4) ==1.1572 ,f\"Your all_patients_features function output does not match the correct result, check the format or the way you calculated\"\n",
        "assert feature_all_patients.loc[646][\"label\"] ==\"N\" ,f\"Your all_patients_features function output does not match the correct result, check the format or the way you calculated\"\n",
        "\n"
      ]
    },
    {
      "cell_type": "markdown",
      "metadata": {
        "id": "fCVZdK7YmeHG"
      },
      "source": [
        "## Ex. 12.3: Feature Selection\n",
        "\n",
        "Now that we calculated a set of features it is important to check if they provide the separation we hoped.\n",
        "This is an important step, as our classifier can never be better than its data/features.\n",
        "If the features cannot separate our classes of interest, our classifier cannot magically achieve this.\n",
        "\n",
        "A typical way to do this, is to plot the histogram for each feature.\n",
        "\n",
        "a) Look at the visualisation below. Discuss what you would expect from a “good” feature.\n",
        "\n",
        "b) Pick the best 4 features you would consider as the best\n",
        "\n",
        "c) Explain the limitations of selecting features just based on a 1D histogram"
      ]
    },
    {
      "cell_type": "code",
      "execution_count": 115,
      "metadata": {
        "tags": [],
        "id": "dHF4f4TTmeHG",
        "colab": {
          "base_uri": "https://localhost:8080/",
          "height": 906
        },
        "outputId": "64a8a472-ee7c-46ea-ff8f-84a8c96940ee"
      },
      "outputs": [
        {
          "output_type": "display_data",
          "data": {
            "text/plain": [
              "<Figure size 900x900 with 9 Axes>"
            ],
            "image/png": "[encoded data removed]"
          },
          "metadata": {}
        }
      ],
      "source": [
        "## Run this block too visualize the different feature histograms, PLOTS ARE NOT GRADED!!\n",
        "\n",
        "\n",
        "plot_longform_df = feature_all_patients.melt(['label'], value_name='value', var_name='features')\n",
        "g = sns.FacetGrid(plot_longform_df, col='features', hue=\"label\", sharex=False, sharey=False, col_wrap=3)\n",
        "g = (g.map(sns.kdeplot, 'value', fill=True))"
      ]
    },
    {
      "cell_type": "markdown",
      "metadata": {
        "id": "SdUiHZ7DmeHG"
      },
      "source": [
        "## Ex. 12.4: Training a classifier\n",
        "\n",
        "With our set of features, we will now train a classifier.\n",
        "This is usually a crucial step, as the choice of classifier and and its parameters will heavily influence the final performance.\n",
        "While there are some rules of thumb, most of time this requires some trial and error or a proper grid search.\n",
        "\n",
        "For this exercise we are going to use a *RandomForestClassifier* (and leave all parameters at default), because it is simple to use and requires no further pre-processing of our features.\n",
        "Have a look at the [sklearn documentation](https://scikit-learn.org/stable/modules/generated/sklearn.ensemble.RandomForestClassifier.html) for further information.\n",
        "\n",
        "To test the performance of a classifier, we need to decide on a “Test Set”.\n",
        "A part of our data, we will not use to train the classifier, but only to evaluate its final performance.\n",
        "This is called a train-test-split and sklearn has some [helper functions](https://scikit-learn.org/stable/modules/generated/sklearn.model_selection.train_test_split.html) for this.\n",
        "\n",
        "\n",
        "a) Use the documentation provided above to assemble a simple pipeline consisting of a train-test-split with 30% test data and stratification.\n",
        "\n",
        "b) Explain why “stratification” could be important for the given problem and name potential other issues of using a single train-test split like shown here.\n",
        "\n",
        "c) Train a Random Forest classifier using this train data and calculate the confusion matrix and the accuracy for this classification. Explain the meaning of each entry in the confusion matrix.\n",
        "\n",
        "d) See how the classification changes with all features (instead of just your selected features). Compare the results.\n",
        "\n",
        "\n",
        "**FYI: You have to use the random state number given in the code for the split and classifier, otherwise you won't be able to pass the test**"
      ]
    },
    {
      "cell_type": "code",
      "execution_count": 116,
      "metadata": {
        "tags": [],
        "id": "Se6R4T0nmeHG"
      },
      "outputs": [],
      "source": [
        "#Preliminary preparations before creating the classifier\n",
        "\n",
        "#For the next task we will work with the following 4 selected Features:\n",
        "\n",
        "selected_features = ['QRS_Width', 'Template', 'Min', 'Mean']\n",
        "\n",
        "#For reproducible results we will utilize the following random state:\n",
        "Random_state = 44 #Be sure to use it for both the split and the classifier sections\n",
        "\n",
        "\n",
        "# Features and label vector creation\n",
        "\n",
        "data = feature_all_patients[selected_features]\n",
        "labels = feature_all_patients['label']\n",
        "\n",
        "\n"
      ]
    },
    {
      "cell_type": "code",
      "execution_count": 117,
      "metadata": {
        "deletable": false,
        "nbgrader": {
          "cell_type": "code",
          "checksum": "d0ad4deff3b402041b3c3b6632c1cf03",
          "grade": false,
          "grade_id": "data-split",
          "locked": false,
          "schema_version": 3,
          "solution": true,
          "task": false
        },
        "tags": [],
        "id": "xus1E_QxmeHG"
      },
      "outputs": [],
      "source": [
        "#a) Train and test data split\n",
        "from sklearn.model_selection import train_test_split ##Import required in this block for autograding purposes DO NOT REMOVE!!!\n",
        "def data_split(data,labels):\n",
        "    \"\"\"Splits data into training and test data\n",
        "\n",
        "    Args:\n",
        "        data: pd.Dataframe containing the ECG selected features\n",
        "        labels: np.Array that contains the labels \"N\" or \"PVC\" for each of the heartbeats in the data\n",
        "\n",
        "    Returns:\n",
        "        X_train, X_test, y_train, y_test: Data splits that follow the sklearn format\n",
        "    \"\"\"\n",
        "    # Remember: Use 44 for the random state parameter and  a 30% division for the data stratification\n",
        "    # YOUR CODE HERE\n",
        "    X_train, X_test, y_train, y_test = train_test_split(data, labels, test_size=0.3, stratify=labels, random_state=44)\n",
        "    return X_train, X_test, y_train, y_test"
      ]
    },
    {
      "cell_type": "code",
      "execution_count": 118,
      "metadata": {
        "deletable": false,
        "editable": false,
        "nbgrader": {
          "cell_type": "code",
          "checksum": "72ae7d4f0cdfe43e5ac39f249c380f1c",
          "grade": true,
          "grade_id": "data-split-test",
          "locked": true,
          "points": 3,
          "schema_version": 3,
          "solution": false,
          "task": false
        },
        "tags": [],
        "id": "sVTdIdH4meHG"
      },
      "outputs": [],
      "source": [
        "##### DO NOT MODIFY THE LINES OF CODE IN THIS BLOCK\n",
        "### BEGIN TESTS\n",
        "#Run this block to test your data_split implementation\n",
        "\n",
        "X_train, X_test, y_train, y_test = data_split(data,labels)\n",
        "\n",
        "\n",
        "assert X_train.size ==174952,f\"Your data split is not working properly\"\n",
        "assert X_test.size ==74980,f\"Your data split is not working properly\"\n",
        "assert y_train.size ==43738,f\"Your data split is not working properly\"\n",
        "assert y_test.size ==18745,f\"Your data split is not working properly\"\n",
        "### END TESTS\n"
      ]
    },
    {
      "cell_type": "code",
      "execution_count": 83,
      "metadata": {
        "deletable": false,
        "nbgrader": {
          "cell_type": "code",
          "checksum": "4d501db78253d9bd29ae09ad0914a0e0",
          "grade": false,
          "grade_id": "confusion-matrix",
          "locked": false,
          "schema_version": 3,
          "solution": true,
          "task": false
        },
        "tags": [],
        "id": "uGO33q-KmeHG"
      },
      "outputs": [],
      "source": [
        "#c) Random Forest classifier\n",
        "\n",
        "#Create a random forest classifier and fit it with the train data\n",
        "#Use it to classify the test data and obtain its corresponding confusion matrix and accuracy score\n",
        "\n",
        "from sklearn.ensemble import RandomForestClassifier\n",
        "from sklearn.metrics import confusion_matrix, accuracy_score, ConfusionMatrixDisplay\n",
        "\n",
        "\n",
        "def random_forest(X_train, X_test, y_train, y_test):\n",
        "    \"\"\"Creates a random forest classifier with sklearn and also returns its predicted accuracy and confusion matrix on the given data\n",
        "\n",
        "    Args:\n",
        "        X_train, X_test, y_train, y_test: Data splits that follow the sklearn format\n",
        "\n",
        "    Returns:\n",
        "        classifier: The random forest classifier object created by sklearn\n",
        "        cf_matrix: The confusion matrix obtained by your classifier when predicting on the test data\n",
        "        Accuracy: The accuracy obtained by your classifier when predicting on the test data\n",
        "    \"\"\"\n",
        "    # Remember: Use 44 for the random state parameter and leave the other parameters in their standard values\n",
        "    # YOUR CODE HERE\n",
        "    classifier = RandomForestClassifier(random_state=44)\n",
        "\n",
        "    # Fit the classifier on the training data\n",
        "    classifier.fit(X_train, y_train)\n",
        "\n",
        "    # Predict on the test data\n",
        "    y_pred = classifier.predict(X_test)\n",
        "\n",
        "    # Obtain the confusion matrix\n",
        "    cf_matrix = confusion_matrix(y_test, y_pred)\n",
        "\n",
        "    # Obtain the accuracy score\n",
        "    accuracy = accuracy_score(y_test, y_pred)\n",
        "    return classifier,cf_matrix,accuracy\n"
      ]
    },
    {
      "cell_type": "code",
      "execution_count": 119,
      "metadata": {
        "deletable": false,
        "editable": false,
        "nbgrader": {
          "cell_type": "code",
          "checksum": "5dc0c9e15de4f453b7b2b3d519131d6c",
          "grade": true,
          "grade_id": "confusion-matrix-test",
          "locked": true,
          "points": 6,
          "schema_version": 3,
          "solution": false,
          "task": false
        },
        "tags": [],
        "id": "bzd1wQpVmeHH",
        "colab": {
          "base_uri": "https://localhost:8080/",
          "height": 551
        },
        "outputId": "429764e2-6727-4baf-df64-ab72a92478f4"
      },
      "outputs": [
        {
          "output_type": "stream",
          "name": "stdout",
          "text": [
            "Classifier's accuracy:  0.9867164577220592\n"
          ]
        },
        {
          "output_type": "display_data",
          "data": {
            "text/plain": [
              "<Figure size 640x480 with 2 Axes>"
            ],
            "image/png": "[encoded data removed]"
          },
          "metadata": {}
        },
        {
          "output_type": "stream",
          "name": "stdout",
          "text": [
            "\n",
            "\n",
            "\t\tPreliminary Test Passed :)\n",
            "\n",
            "\n"
          ]
        }
      ],
      "source": [
        "##### DO NOT MODIFY THE LINES OF CODE IN THIS BLOCK\n",
        "### RUN THIS BLOCK TO TEST YOUR random_forest implementation\n",
        "\n",
        "### BEGIN TESTS\n",
        "classifier,cf_matrix, accuracy = random_forest(X_train, X_test, y_train, y_test)\n",
        "print(\"Classifier's accuracy: \", accuracy)\n",
        "\n",
        "disp = ConfusionMatrixDisplay(confusion_matrix=cf_matrix,display_labels=['N', 'PVC'])\n",
        "disp.plot()\n",
        "plt.show()\n",
        "#plot_confusion_matrix(classifier, X_test, y_test, normalize='true');\n",
        "\n",
        "assert accuracy>0.985,f\"Your random forest implementation is not working properly (check your random state, selected features and data split)\"\n",
        "assert cf_matrix[0,0] >16650,f\"Your random forest implementation is not working properly (check your random state, selected features and data split)\"\n",
        "print(\"\\n\\n\\t\\tPreliminary Test Passed :)\\n\\n\")\n",
        "### END TESTS\n"
      ]
    },
    {
      "cell_type": "code",
      "execution_count": 120,
      "metadata": {
        "deletable": false,
        "editable": false,
        "nbgrader": {
          "cell_type": "code",
          "checksum": "3e1b8f641c3cbded972bbd669cd60c22",
          "grade": true,
          "grade_id": "all-features-classification",
          "locked": true,
          "points": 1,
          "schema_version": 3,
          "solution": false,
          "task": false
        },
        "tags": [],
        "id": "K-X5ZvR2meHH",
        "colab": {
          "base_uri": "https://localhost:8080/",
          "height": 500
        },
        "outputId": "73d65aa5-97b2-4341-ad8f-22646dbea98a"
      },
      "outputs": [
        {
          "output_type": "stream",
          "name": "stdout",
          "text": [
            "0.99365164043745\n",
            "[[16725    38]\n",
            " [   81  1901]]\n"
          ]
        },
        {
          "output_type": "display_data",
          "data": {
            "text/plain": [
              "<Figure size 640x480 with 2 Axes>"
            ],
            "image/png": "[encoded data removed]"
          },
          "metadata": {}
        }
      ],
      "source": [
        "#d) All features classifier\n",
        "# After passing the previous test block, run this to see how the classification changes with all features\n",
        "\n",
        "\n",
        "data2 = feature_all_patients.drop(['label'], axis=1)\n",
        "labels2 = feature_all_patients['label']\n",
        "X_train2, X_test2, y_train2, y_test2 = data_split(data2,labels2)\n",
        "\n",
        "classifier,cf_matrix, accuracy = random_forest(X_train2, X_test2, y_train2, y_test2)\n",
        "print(accuracy)\n",
        "print(cf_matrix)\n",
        "disp = ConfusionMatrixDisplay(confusion_matrix=cf_matrix,display_labels=['N', 'PVC'])\n",
        "disp.plot()\n",
        "plt.show()\n"
      ]
    },
    {
      "cell_type": "markdown",
      "metadata": {
        "id": "HNtvgaKkmeHH"
      },
      "source": [
        "## Ex. 12.5: Discussing classifier performance\n",
        "\n",
        "a) Would you trust the classifier to make an automatic decision in a clinical environment?\n",
        "\n",
        "b) For which performance parameter would you try to optimize the classifier performance? (TP-rate or TN-rate?)\n",
        "\n",
        "c) What other issues do you see with the current system?"
      ]
    },
    {
      "cell_type": "markdown",
      "source": [
        "a) The classifier's accuracy is approximately 98.67%, which is quite high for a machine learning classifier. This may indicate that our data is biased, or we need more data for a comprehensive evaluation.The presence of fewer True Negatives suggests that the model may struggle to correctly identify normal heartbeats, which could lead to false diagnoses. Given the high-stakes nature of clinical decision-making, I would not fully trust this classifier without further validation, explainability, and real-world testing.\n",
        "\n",
        "b) I would prioritize optimizing the True Positive (TP) rate, as misclassifying a PVC heartbeat as normal (False Negative) could delay necessary medical intervention. Detecting PVC heartbeats correctly is more critical than falsely flagging a normal heartbeat as PVC, which would warrant further testing but not necessarily harm the patient.\n",
        "\n",
        "c) Beyond class imbalance, the model may be overfitting to the training data, meaning it might not generalize well to unseen cases. Additionally, Random Forest classifiers can be biased towards the majority class, affecting predictive performance. Lastly, the features used for training may not be sufficient, and incorporating additional physiological signals or deep learning approaches could improve robustness.\n"
      ],
      "metadata": {
        "id": "eSxd_0-vOKIY"
      }
    }
  ],
  "metadata": {
    "kernelspec": {
      "display_name": ".venv",
      "language": "python",
      "name": "python3"
    },
    "language_info": {
      "codemirror_mode": {
        "name": "ipython",
        "version": 3
      },
      "file_extension": ".py",
      "mimetype": "text/x-python",
      "name": "python",
      "nbconvert_exporter": "python",
      "pygments_lexer": "ipython3",
      "version": "3.10.11"
    },
    "colab": {
      "provenance": [],
      "include_colab_link": true
    }
  },
  "nbformat": 4,
  "nbformat_minor": 0
}